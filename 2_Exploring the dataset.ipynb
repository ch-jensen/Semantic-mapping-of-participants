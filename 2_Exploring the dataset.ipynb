{
 "cells": [
  {
   "cell_type": "markdown",
   "metadata": {},
   "source": [
    "# Exploring the dataset of participant references in Lev 17-26\n",
    "\n",
    "*Christian Højgaard Jensen, chj@dbi.edu*\n",
    "\n",
    "This notebook contains an exploration of the mapped dataset created in [1_Preparing dataset.ipynb\n",
    "](https://github.com/ch-jensen/Semantic-mapping-of-participants/blob/master/1_Preparing%20dataset.ipynb). The exploration involves several tests as to the internal consistency of the dataset and concludes in a list of rows to be manually checked and, if necessary, corrected."
   ]
  },
  {
   "cell_type": "markdown",
   "metadata": {},
   "source": [
    "## 1. Firing up\n",
    "\n",
    "Import packages, including [text-fabric](https://dans-labs.github.io/text-fabric/) and the [ETCBC database](https://github.com/ETCBC/bhsa):"
   ]
  },
  {
   "cell_type": "code",
   "execution_count": null,
   "metadata": {},
   "outputs": [],
   "source": [
    "import os, sys, collections\n",
    "import pprint as pp\n",
    "import pandas as pd\n",
    "import matplotlib.pyplot as plt\n",
    "from colour import Color"
   ]
  },
  {
   "cell_type": "code",
   "execution_count": null,
   "metadata": {},
   "outputs": [],
   "source": [
    "from tf.fabric import Fabric\n",
    "from tf.extra.bhsa import Bhsa\n",
    "\n",
    "BHSA = f'etcbc/bhsa/tf/c'\n",
    "TF = Fabric(modules = BHSA)"
   ]
  },
  {
   "cell_type": "code",
   "execution_count": null,
   "metadata": {
    "scrolled": true
   },
   "outputs": [],
   "source": [
    "api = TF.load('''\n",
    "    typ function \n",
    "    sp lex\n",
    "''')\n",
    "api.loadLog()\n",
    "api.makeAvailableIn(globals())"
   ]
  },
  {
   "cell_type": "code",
   "execution_count": null,
   "metadata": {},
   "outputs": [],
   "source": [
    "B = Bhsa(api, 'search', version=\"c\")"
   ]
  },
  {
   "cell_type": "markdown",
   "metadata": {},
   "source": [
    "Importing the dataset to be explored:"
   ]
  },
  {
   "cell_type": "code",
   "execution_count": null,
   "metadata": {},
   "outputs": [],
   "source": [
    "file = 'Datasets/Lev17toLev26.mapped.csv'\n",
    "\n",
    "data = pd.read_csv(file).fillna('...') #empty cells are replaced with '...'\n",
    "data[:10]"
   ]
  },
  {
   "cell_type": "code",
   "execution_count": null,
   "metadata": {},
   "outputs": [],
   "source": [
    "len(data)"
   ]
  },
  {
   "cell_type": "markdown",
   "metadata": {},
   "source": [
    "## 2. Preparations\n",
    "\n",
    "The dataset needs to be modified for speeding up the processing of data. The dataset represents the layering of participant references in the Hebrew text which means that some rows are compounds of other rows (called constituents). As shown below, the reference in row 5 spans over a long range of slots including slots referring to other referents - or, rather, constituents of that reference - in rows 6-11.\n",
    "\n",
    "We want to test the consistency between compounds and their reference, and for convenience we want to add another column to the dataset comprising the row number of any compound and its respective constituents."
   ]
  },
  {
   "cell_type": "code",
   "execution_count": null,
   "metadata": {},
   "outputs": [],
   "source": [
    "data.iloc[5:12]"
   ]
  },
  {
   "cell_type": "markdown",
   "metadata": {},
   "source": [
    "Two functions are defined to simplify the processing of the data in the dataset:"
   ]
  },
  {
   "cell_type": "code",
   "execution_count": null,
   "metadata": {},
   "outputs": [],
   "source": [
    "def wordList(row, dataframe):\n",
    "    '''\n",
    "    Input: row and dataframe\n",
    "    Output: list of words in the column 'slots'\n",
    "    '''\n",
    "    slots = dataframe.iloc[row].slots\n",
    "    word_list = slots.split()\n",
    "    int_word_list = [int(w) for w in word_list]\n",
    "    \n",
    "    return int_word_list\n",
    "\n",
    "def compoundReferences(row):\n",
    "    '''\n",
    "    Input: Row number\n",
    "    Output: List of rows for compound and embedded references    \n",
    "    '''\n",
    "    max_iteration = 30 #A max iteration is set to 30, as no compound reference exceeds 30 rows.\n",
    "    \n",
    "    word_list = wordList(row, data)\n",
    "    \n",
    "    row_string = ''\n",
    "    \n",
    "    #The iteration has to restrictions. It cannot surpass the max iteration (row + 30 row) and the length of the dataset\n",
    "    line=row\n",
    "    while line < row+max_iteration and line < len(data): #Looping over the next 30 lines relative to the actual row.\n",
    "        new_word_list = wordList(line, data)\n",
    "        intersection = set(word_list).intersection(new_word_list) #Finding the intersection between the two rows.\n",
    "        if intersection:        \n",
    "            row_string += f'{line} ' #row number added to row_string\n",
    "        line+=1\n",
    "    \n",
    "    return row_string.rstrip(' ')\n",
    "\n",
    "#compoundReferences(5)"
   ]
  },
  {
   "cell_type": "markdown",
   "metadata": {},
   "source": [
    "A string of row numbers of the compound and its constituents (if any) is added to a compound_list comprising all row numbers of the dataset. The compound_list is then added to the dataset as an additional column:"
   ]
  },
  {
   "cell_type": "code",
   "execution_count": null,
   "metadata": {},
   "outputs": [],
   "source": [
    "compound_list = []\n",
    "for r in data.iterrows():\n",
    "    row = r[0]\n",
    "    compound_list.append(compoundReferences(row))\n",
    "        \n",
    "data['compound'] = compound_list"
   ]
  },
  {
   "cell_type": "code",
   "execution_count": null,
   "metadata": {},
   "outputs": [],
   "source": [
    "data[:6]"
   ]
  },
  {
   "cell_type": "markdown",
   "metadata": {},
   "source": [
    "Now we can look up how many compound references the dataset contains by finding all rows with a compound longer than one element:"
   ]
  },
  {
   "cell_type": "code",
   "execution_count": null,
   "metadata": {},
   "outputs": [],
   "source": [
    "compound_length_list = []\n",
    "for r in data.iterrows():\n",
    "    row = r[0]\n",
    "    \n",
    "    compound_length = len(data['compound'][row].split())\n",
    "    if compound_length > 1:\n",
    "        compound_length_list.append(compound_length)\n",
    "        \n",
    "len(compound_length_list)"
   ]
  },
  {
   "cell_type": "markdown",
   "metadata": {},
   "source": [
    "We can also find the number of compounds that are not themselves constiuents of a compound. Here we need to check whether the words of the compound intersect with a range of words further up in the data set. We select a max iteration of 30, which means we will check for intersection up to 30 lines further up the data set:"
   ]
  },
  {
   "cell_type": "code",
   "execution_count": null,
   "metadata": {},
   "outputs": [],
   "source": [
    "def motherReferences(dataframe):\n",
    "    '''\n",
    "    Input: Dataframe\n",
    "    Output: A list of all mother references\n",
    "    '''\n",
    "    max_iteration = 30\n",
    "    mother_list = []\n",
    "    \n",
    "    for r in dataframe.iterrows():\n",
    "        row = r[0]\n",
    "        mother = True\n",
    "        \n",
    "        compound_length = len(data['compound'][row].split())\n",
    "        if compound_length > 1:                 #If length is more than 1, it means that the reference of this\n",
    "                                                #row is a compound of other references futher down in the data set.\n",
    "        \n",
    "            #The iteration has two restrictions: It may not surpass the max iteration (row - 30) or the start of the dataset.\n",
    "            line = row-1\n",
    "            while line > row-max_iteration and line >= 0:\n",
    "                word_list_row = wordList(row, dataframe)\n",
    "                word_list_line = wordList(line, dataframe)\n",
    "                    \n",
    "                intersection = set(word_list_row).intersection(word_list_line)\n",
    "                \n",
    "                if len(intersection) > 0: #If the two rows intersect in terms of shared slots, the compound is itself a constituent.\n",
    "                    mother = False\n",
    "                line -= 1\n",
    "            \n",
    "            if mother == True:\n",
    "                mother_list.append(row)\n",
    "    return mother_list"
   ]
  },
  {
   "cell_type": "markdown",
   "metadata": {},
   "source": [
    "Now we can calculate the number of compound references (excluding all compound references that are themselves constituents of other compound references):"
   ]
  },
  {
   "cell_type": "code",
   "execution_count": null,
   "metadata": {},
   "outputs": [],
   "source": [
    "len(motherReferences(data))"
   ]
  },
  {
   "cell_type": "markdown",
   "metadata": {},
   "source": [
    "Finally, we want to export the updated dataframe to a CSV file:"
   ]
  },
  {
   "cell_type": "code",
   "execution_count": null,
   "metadata": {},
   "outputs": [],
   "source": [
    "file = 'Datasets/Lev17toLev26_mapped_updated.csv'\n",
    "data.to_csv(file, index=False)"
   ]
  },
  {
   "cell_type": "markdown",
   "metadata": {},
   "source": [
    "## 3. Quality check of internal consistency\n",
    "\n",
    "The compound references form a major part of the dataset. It appears that the compounds generally include the references of their respective constituents in their own reference. However, this is not always the case. Therefore, it is worth while investigating, whether we can actually identify a pattern of reference distribution among compounds and constituents, and whether we can identify inconsistencies in this respect."
   ]
  },
  {
   "cell_type": "markdown",
   "metadata": {},
   "source": [
    "### 3.1. Checking the whole data set for internal consistency"
   ]
  },
  {
   "cell_type": "markdown",
   "metadata": {},
   "source": [
    "#### 3.1.1. Exploring compounds and their respective constituents\n",
    "\n",
    "We check whether compound referents correspond to the sum of their respective sub referents.\n",
    "\n",
    "First, we import the updated dataframe:"
   ]
  },
  {
   "cell_type": "code",
   "execution_count": null,
   "metadata": {},
   "outputs": [],
   "source": [
    "file = 'Datasets/Lev17toLev26_mapped_updated.csv'\n",
    "data = pd.read_csv(file)"
   ]
  },
  {
   "cell_type": "markdown",
   "metadata": {},
   "source": [
    "In the example below we see that the clause atom 528165 contains a compound reference spanning word 63013 to 63025. In the rows below the sub elements of this compound reference are listed. We want to check if the compound references correspond to their respective embedded referents."
   ]
  },
  {
   "cell_type": "code",
   "execution_count": null,
   "metadata": {
    "scrolled": true
   },
   "outputs": [],
   "source": [
    "data[data.clause_atom == 528165]"
   ]
  },
  {
   "cell_type": "markdown",
   "metadata": {},
   "source": [
    "We want to check the internal consistency between compounds and their constituents. We do this by running through all compounds (including those that can also be constituents themselves) and check whether the actor reference of their constituents is not included in the compound. If one of its constituents is not included, the compound is treated as a mismatch. It means that only compounds in which all of the constituents are included in the compound actor reference are treated as correct:"
   ]
  },
  {
   "cell_type": "code",
   "execution_count": null,
   "metadata": {},
   "outputs": [],
   "source": [
    "error_list = []\n",
    "n=0\n",
    "\n",
    "for row in data.iterrows(): #Looping over all rows of the dataset\n",
    "    row = row[0]\n",
    "    compound = data['compound'][row].split() #A list of rows of the compound and its constituents\n",
    "    compound_actor = str(data.iloc[row].actor) #The actor of this row\n",
    "    \n",
    "    if len(compound) > 1: #We exclude all non-compound rows (length 1 means no constituent)\n",
    "        error = False\n",
    "\n",
    "        for c in compound[1:]: #We skip the first element of the compound_list because that is the compound itself\n",
    "            constituent_actor = str(data.iloc[int(c)].actor)\n",
    "\n",
    "            if constituent_actor not in compound_actor:\n",
    "                error = True\n",
    "\n",
    "        if error == True:\n",
    "            error_list.append(row)\n",
    "        else:\n",
    "            n+=1\n",
    "        \n",
    "print(f'Number of mismatches: {len(error_list)}')\n",
    "print(f'Number of correct cases: {n}')"
   ]
  },
  {
   "cell_type": "code",
   "execution_count": null,
   "metadata": {},
   "outputs": [],
   "source": [
    "#error_list"
   ]
  },
  {
   "cell_type": "markdown",
   "metadata": {},
   "source": [
    "Let's inspect the lengths of the compound references in the error_list. We do this by creating a list of the length of each compound and count the frequencies of each length:"
   ]
  },
  {
   "cell_type": "code",
   "execution_count": null,
   "metadata": {},
   "outputs": [],
   "source": [
    "count_compound_length = collections.Counter([len(data['compound'][case].split()) for case in error_list])"
   ]
  },
  {
   "cell_type": "markdown",
   "metadata": {},
   "source": [
    "The lengths and their respective frequencies are plotted:"
   ]
  },
  {
   "cell_type": "code",
   "execution_count": null,
   "metadata": {},
   "outputs": [],
   "source": [
    "plot = plt.bar(count_compound_length.keys(), count_compound_length.values())\n",
    "\n",
    "#values of x axis calculated as the range between the minimum and maximum value+1\n",
    "plt.xticks(range(min(sorted(count_compound_length.keys())), max(sorted(count_compound_length.keys()))+1), fontsize=16)\n",
    "plt.yticks(fontsize=16)\n",
    "plt.xlabel('compound length', fontsize=16)\n",
    "plt.rcParams[\"figure.figsize\"] = [8,6]\n",
    "plt.show()"
   ]
  },
  {
   "cell_type": "markdown",
   "metadata": {},
   "source": [
    "Compounds with a length of two dominate our data. A length of two means that the compound contains one constituent beside itself. Compounds with many constituents (bigger length) will sometimes contain other compounds with a smaller set of constituents. Therefore, if we address the compounds with a length of two, we will also be adressing some of the issues pertaining to the longer compounds. In other words, if we can exclude short compounds, we may by implication also be able to exclude longer compounds, because the inconsistency observed in the longer compounds may be caused by an inconsistency in one of its embedded compounds.\n",
    "\n",
    "We therefore make a sublist of all compounds of the length two:"
   ]
  },
  {
   "cell_type": "code",
   "execution_count": null,
   "metadata": {},
   "outputs": [],
   "source": [
    "compound_length_2 = [case for case in error_list if len(data['compound'][case].split()) == 2]\n",
    "#compound_length_2"
   ]
  },
  {
   "cell_type": "markdown",
   "metadata": {},
   "source": [
    "We want to inspect the constituents of the compounds with a length of two in terms of reference type (suffix or lexical) and function. We therefore create a dictionary in which we store this information for each constituent:"
   ]
  },
  {
   "cell_type": "code",
   "execution_count": null,
   "metadata": {},
   "outputs": [],
   "source": [
    "ref_func_dict = {}\n",
    "\n",
    "for case in compound_length_2:\n",
    "    \n",
    "    #The row number of the constituent is found by getting the compound list and taking the second row:\n",
    "    row_compound = data['compound'][case].split()\n",
    "    row_constituent = int(row_compound[1])\n",
    "    constituent_reference = data.iloc[row_constituent].reference\n",
    "    if constituent_reference != 'sfx':\n",
    "        constituent_reference = 'lexeme'\n",
    "    constituent_function = data.iloc[row_constituent].func\n",
    "    ref_func_dict[row_constituent] = [constituent_reference, constituent_function]\n",
    "    \n",
    "#ref_func_dict"
   ]
  },
  {
   "cell_type": "markdown",
   "metadata": {},
   "source": [
    "The dictionary is transformed to a dataframe. The rows reference type (row 0) and function (row 1) are crosstabulated and an extra column with counts is added:"
   ]
  },
  {
   "cell_type": "code",
   "execution_count": null,
   "metadata": {},
   "outputs": [],
   "source": [
    "table = pd.DataFrame.from_dict(ref_func_dict)\n",
    "ref_func = pd.crosstab(index=table.loc[0],columns=table.loc[1])\n",
    "ref_func"
   ]
  },
  {
   "cell_type": "code",
   "execution_count": null,
   "metadata": {},
   "outputs": [],
   "source": [
    "plot = ref_func.plot(kind='bar', stacked=True)\n",
    "plot.legend(fontsize = 16)\n",
    "plt.xlabel('reference type and function', fontsize=16)\n",
    "plt.xticks(rotation='horizontal', fontsize=16)\n",
    "plt.ylabel('frequency', fontsize=16)\n",
    "plt.yticks(fontsize=16)\n",
    "plt.rcParams[\"figure.figsize\"] = [8,6]\n",
    "plt.show()"
   ]
  },
  {
   "cell_type": "markdown",
   "metadata": {},
   "source": [
    "It becomes clear that there is a difference between the reference types (suffix or lexeme) in terms of which functions they have. Lexical references never function as objects.\n",
    "\n",
    "#### 3.1.2. Inspecting compounds with suffixes\n",
    "\n",
    "As for object suffixes, it makes sense that the suffix reference is not included in the reference of the compound reference, since the compound (probably a verb) and the suffix usually refer to two different referents - unless of cause the object refers to the same referent as the verb (a reflexive/reciprocal use). In the example below, the subject (\"I\" = the Lord) has given \"it\" (= the blood). The suffix clearly refers to another referent."
   ]
  },
  {
   "cell_type": "code",
   "execution_count": null,
   "metadata": {},
   "outputs": [],
   "source": [
    "B.pretty(528202, highlights = {688474:'gold'})"
   ]
  },
  {
   "cell_type": "markdown",
   "metadata": {},
   "source": [
    "Let's take a close look at the object suffixes:"
   ]
  },
  {
   "cell_type": "code",
   "execution_count": null,
   "metadata": {},
   "outputs": [],
   "source": [
    "for case in compound_length_2:\n",
    "    #The row number of the constituent is found by getting the compound list and taking the second row:\n",
    "    row_compound = data['compound'][case].split()\n",
    "    row_constituent = int(row_compound[1])\n",
    "    if data.iloc[row_constituent].reference == 'sfx' and data.iloc[row_constituent].func == 'Obj1':\n",
    "        display(data.iloc[case:row_constituent+1])"
   ]
  },
  {
   "cell_type": "markdown",
   "metadata": {},
   "source": [
    "Generally, the object suffixes refer to actors distinct from the actors of the compound. There is no indication that the compound inadventently includes parts of the suffix reference. The only apparent exception is in row 65 in which the suffix referent is 'ZBX BN JFR>L' while the compound refers to 'BN JFR>L'. A closer look at the data set, however, reveals that the suffix refers to a distinct actor already referred to in row 58.\n",
    "\n",
    "In short, compounds with object suffixes reveal a consistent pattern and we can exclude these from our list of inconsistencies. We add the excluded suffixes to a separate list that we can use for cross-checking:"
   ]
  },
  {
   "cell_type": "code",
   "execution_count": null,
   "metadata": {},
   "outputs": [],
   "source": [
    "exclude_cases = []\n",
    "for case in compound_length_2:\n",
    "    #The row number of the constituent is found by getting the compound list and taking the second element:\n",
    "    row_compound = data['compound'][case].split()\n",
    "    row_constituent = int(row_compound[1])\n",
    "    if data.iloc[row_constituent].reference == 'sfx' and data.iloc[row_constituent].func == 'Obj1' and case not in exclude_cases:\n",
    "        exclude_cases.append(case)\n",
    "        \n",
    "print(f'Number of excluded cases: {len(exclude_cases)}')"
   ]
  },
  {
   "cell_type": "code",
   "execution_count": null,
   "metadata": {},
   "outputs": [],
   "source": [
    "#exclude_cases"
   ]
  },
  {
   "cell_type": "markdown",
   "metadata": {},
   "source": [
    "The remaining suffixes all have the function '-gentf'. Let's take a look at this group:"
   ]
  },
  {
   "cell_type": "code",
   "execution_count": null,
   "metadata": {},
   "outputs": [],
   "source": [
    "for case in compound_length_2:\n",
    "    #The row number of the constituent is found by getting the compound list and taking the second row:\n",
    "    row_compound = data['compound'][case].split()\n",
    "    row_constituent = int(row_compound[1])\n",
    "    if data.iloc[row_constituent].reference == 'sfx' and data.iloc[row_constituent].func == '-gentf':\n",
    "        display(data.iloc[case:row_constituent+1])"
   ]
  },
  {
   "cell_type": "markdown",
   "metadata": {},
   "source": [
    "Most of the cases involve the compound reference to be empty, and we can exclude those cases."
   ]
  },
  {
   "cell_type": "code",
   "execution_count": null,
   "metadata": {},
   "outputs": [],
   "source": [
    "n=0\n",
    "for case in compound_length_2:\n",
    "    row_compound = data['compound'][case].split()\n",
    "    row_constituent = int(row_compound[1])\n",
    "    if data.iloc[row_constituent].reference == 'sfx' and data.iloc[case].actor == '...' and case not in exclude_cases:\n",
    "        exclude_cases.append(case)\n",
    "        n+=1\n",
    "        \n",
    "print(f'Excluded cases: {(n)}')\n",
    "print(f'Total number of excluded cases: {len(exclude_cases)}')"
   ]
  },
  {
   "cell_type": "markdown",
   "metadata": {},
   "source": [
    "Let's look at the remaining suffixes:"
   ]
  },
  {
   "cell_type": "code",
   "execution_count": null,
   "metadata": {},
   "outputs": [],
   "source": [
    "n=0\n",
    "for case in compound_length_2:\n",
    "    #The row number of the constituent is found by getting the compound list and taking the second row:\n",
    "    row_compound = data['compound'][case].split()\n",
    "    row_constituent = int(row_compound[1])\n",
    "    if data.iloc[row_constituent].reference == 'sfx' and data.iloc[row_constituent].func == '-gentf':\n",
    "        if data.iloc[case].actor != '...':\n",
    "            display(data.iloc[case:row_constituent+1])\n",
    "            n+=1\n",
    "print(n)"
   ]
  },
  {
   "cell_type": "markdown",
   "metadata": {},
   "source": [
    "The picture becomes more blurred when looking at these suffixes. The first case, row 262, has a suffix with the reference 'BN JSR>L' while its compound has '>LHJM BN'. Most likely, the compound was intended to be '>LHJM BN JSR>L' but the final word is missing, witnessed by the longer suffix referent. In other words, in this case the compound was probalby intended to include the suffix referent.\n",
    "\n",
    "Another example points in the opposite direction. Row 415 has a compound referring to '3sf\"SHE\"' while its suffix refers to '2sm\"YOUSgmas\"'. The word is \"your bride\" which clearly refers to two different referents. Moreover, the referent '3sf\"SHE\"' occurs elsewhere in the chapter and clearly has a role on its own. This fact contrasts the previous example in which '>LHJM' doesn't have a role on its own in its chapter.\n",
    "\n",
    "Therefore, the rule seems to be: If a referent has a role on its own in a chapter, it will also be distinguished in compound references. If a referent never occurs as an independent referent, the compound will always include the suffix - or at least, that would be the intention.\n",
    "\n",
    "We therefore need to look at the references for each chapter to sort out those referents that are compounds and never occurs independently. For this group of references, we would be able to automatically correct the data set by appending the suffix reference to the compound reference."
   ]
  },
  {
   "cell_type": "markdown",
   "metadata": {},
   "source": [
    "A dependent reference can exist in different functions, including verbs, predicate complements, subjects and objects. The difference between independent and dependent references is that whenever a dependent reference occurs as a substantive, it will need the suffix."
   ]
  },
  {
   "cell_type": "code",
   "execution_count": null,
   "metadata": {},
   "outputs": [],
   "source": [
    "actor_dict = {}\n",
    "\n",
    "for case in compound_length_2:\n",
    "    #The row number of the constituent is found by getting the compound list and taking the second element:\n",
    "    row_compound = data['compound'][case].split()\n",
    "    row_constituent = int(row_compound[1])\n",
    "    if data.iloc[row_constituent].reference == 'sfx' and data.iloc[row_constituent].func == '-gentf' and data.iloc[case].actor != '...':\n",
    "        chapter = data.iloc[case].chapter\n",
    "        compound_actor = data.iloc[case].actor\n",
    "        dict_key = f'{chapter}: {compound_actor}'\n",
    "        \n",
    "        #All rows in which the compound reference occurs in the present chapter.\n",
    "        chapter_rows = data[(data.actor == compound_actor) & (data.chapter==chapter)\n",
    "                            & (data.reference != 'sfx') & (data.func.isin(['VbPred']) == False)].index\n",
    "        ref_type_list = []\n",
    "        \n",
    "        #Looping over the subset. Whenever the compound is longer than one (= has a constituent) it is marked as dependent.\n",
    "        #If shorter than one, it is marked as independent.\n",
    "        for r in chapter_rows:\n",
    "            if len(data['compound'][r].split()) > 1:\n",
    "                ref_type = 'dependent'\n",
    "            else:\n",
    "                ref_type = 'independent'\n",
    "            ref_type_list.append(ref_type)\n",
    "        actor_dict[dict_key] = [ref_type_list, chapter_rows]\n",
    "#actor_dict"
   ]
  },
  {
   "cell_type": "markdown",
   "metadata": {},
   "source": [
    "As becomes evident in the actor_dict, some referents only occur in conjunction with a suffix and never independently. Let's inspect this group more carefully:"
   ]
  },
  {
   "cell_type": "code",
   "execution_count": null,
   "metadata": {},
   "outputs": [],
   "source": [
    "n=0\n",
    "for actor in actor_dict:\n",
    "    actor_set = set(actor_dict[actor][0])\n",
    "    chapter_rows = actor_dict[actor][1]\n",
    "    if len(actor_set) == 1 and 'dependent' in actor_set: #The actor_set must only contain dependent referents\n",
    "        for row in chapter_rows:\n",
    "            compound_references = data['compound'][row].split()\n",
    "            display(data.iloc[int(compound_references[0]):int(compound_references[-1])+1])\n",
    "            n+=1\n",
    "print(n)"
   ]
  },
  {
   "cell_type": "markdown",
   "metadata": {},
   "source": [
    "Generally, the cases support the hypothesis that compound references that never occur independently include the references of the their respective constitents in their compound reference. A closer inspection of each of these actor references reveals that they all intend to include the suffix, either by using a reference also used in the suffix (e.g. 'BN') or by providing number, gender and person information corresponding to the embedded suffix (e.g. '3sm\"HE\"').\n",
    "\n",
    "A few examples go counter to this notion:\n",
    "* QDC BN JFR>L (Lev 22)\n",
    "* TBW>H FDH (Lev 25)\n",
    "* '>X >X 2sm\"YOUSgmas\"' (Lev 25)\n",
    "* JD >X 2sm\"YOUSgmas\" (Lev 25)\n",
    "* G>LH BJT MWCB <JR XWMH (Lev 25)\n",
    "* MMKR BJT MWCB <JR XWMH (Lev 25)\n",
    "* MMKR BJT MWCB <JR XWMH (Lev 25)\n",
    "\n",
    "Inspecting each of these instances in detail reveals that they might in fact be exceptions. Read in their context, the references seem to be wrong which might explain the inconsistency. We will need to correct this list manually."
   ]
  },
  {
   "cell_type": "markdown",
   "metadata": {},
   "source": [
    "Let's take a look at the actors also occuring independently:"
   ]
  },
  {
   "cell_type": "code",
   "execution_count": null,
   "metadata": {
    "scrolled": true
   },
   "outputs": [],
   "source": [
    "n=0\n",
    "for actor in actor_dict:\n",
    "    actor_set = set(actor_dict[actor][0])\n",
    "    chapter_rows = actor_dict[actor][1]\n",
    "    if 'independent' in actor_set:\n",
    "        for row in chapter_rows:\n",
    "            print(actor)\n",
    "            compound_references = data['compound'][row].split()\n",
    "            display(data.iloc[int(compound_references[0]):int(compound_references[-1])+1])\n",
    "        n+=1\n",
    "n"
   ]
  },
  {
   "cell_type": "markdown",
   "metadata": {},
   "source": [
    "When inspecting these cases, it becomes clear that these compounds with suffixes exist independently and apparently not intend to include the suffix in the compound reference. There is only one exception to this observation, namely the actor '>X BN \"YOUSgmas\"' which occurs in Lev 25. The reference looks like a reference dependent on the suffix, but in fact, it occurs independently twice (25:41, 54), or at least independent from the suffix \"your son\". Perhaps this reference has to be changed manually so it better reflex the actor's status as independent."
   ]
  },
  {
   "cell_type": "code",
   "execution_count": null,
   "metadata": {},
   "outputs": [],
   "source": [
    "B.shbLink(529158)\n",
    "B.pretty(529158)"
   ]
  },
  {
   "cell_type": "markdown",
   "metadata": {},
   "source": [
    "Other than that, the pattern is consistent, and we can exclude these cases from our list of mismatches. We do this by adding the cases to our exclude_cases list:"
   ]
  },
  {
   "cell_type": "code",
   "execution_count": null,
   "metadata": {
    "scrolled": true
   },
   "outputs": [],
   "source": [
    "n=0\n",
    "for actor in actor_dict:\n",
    "    actor_set = set(actor_dict[actor][0])\n",
    "    chapter_row = actor_dict[actor][1]\n",
    "    if 'independent' in actor_set:\n",
    "        for row in chapter_row:\n",
    "            if row not in exclude_cases and row in compound_length_2:\n",
    "                exclude_cases.append(row)\n",
    "                n+=1\n",
    "            \n",
    "print(f'Excluded cases: {(n)}')\n",
    "print(f'Total number of excluded cases: {len(exclude_cases)}')"
   ]
  },
  {
   "cell_type": "markdown",
   "metadata": {},
   "source": [
    "#### 3.1.3. Inspecting lexical compounds\n",
    "\n",
    "The next step is to inspect the remaining two-length compounds, namely those compounds with a lexical constituent in contrast to a suffix constituent."
   ]
  },
  {
   "cell_type": "code",
   "execution_count": null,
   "metadata": {
    "scrolled": true
   },
   "outputs": [],
   "source": [
    "for case in compound_length_2:\n",
    "    #The row number of the constituent is found by getting the compound list and taking the second row:\n",
    "    row_compound = data['compound'][case].split()\n",
    "    row_constituent = int(row_compound[1])\n",
    "    if data.iloc[row_constituent].reference != 'sfx':\n",
    "        display(data.iloc[case:row_constituent+1])"
   ]
  },
  {
   "cell_type": "markdown",
   "metadata": {},
   "source": [
    "Most of the cases concern an empty compound or an empty constituent. It makes good sense not to include empty constituents in a compound or to include a constituent in an empty compound. For that reason, we can reasonably regard the empty cases as consistent, and we will add those to our exclude_cases list:"
   ]
  },
  {
   "cell_type": "code",
   "execution_count": null,
   "metadata": {},
   "outputs": [],
   "source": [
    "n=0\n",
    "for case in compound_length_2:\n",
    "    row_compound = data['compound'][case].split()\n",
    "    row_constituent = int(row_compound[1])\n",
    "    if data.iloc[row_constituent].reference != 'sfx' and case not in exclude_cases:\n",
    "        if data.iloc[case].actor == '...' or data.iloc[row_constituent].actor == '...':\n",
    "            exclude_cases.append(case)\n",
    "            n+=1    \n",
    "        \n",
    "print(f'Excluded cases: {(n)}')\n",
    "print(f'Total number of excluded cases: {len(exclude_cases)}')"
   ]
  },
  {
   "cell_type": "markdown",
   "metadata": {},
   "source": [
    "Let's take a look at the remaining cases:"
   ]
  },
  {
   "cell_type": "code",
   "execution_count": null,
   "metadata": {
    "scrolled": true
   },
   "outputs": [],
   "source": [
    "n=0\n",
    "for case in compound_length_2:\n",
    "    #The row number of the constituent is found by getting the compound list and taking the second row:\n",
    "    row_compound = data['compound'][case].split()\n",
    "    row_constituent = int(row_compound[1])\n",
    "    if data.iloc[row_constituent].reference != 'sfx' and case not in exclude_cases:\n",
    "        display(data.iloc[case:row_constituent+1])\n",
    "        highlight_word = data['slots'][row_constituent]\n",
    "        B.pretty(data['clause_atom'][case], highlights = {int(highlight_word): 'gold'})\n",
    "        n+=1\n",
    "n"
   ]
  },
  {
   "cell_type": "markdown",
   "metadata": {},
   "source": [
    "When inspecting the results above, it becomes clear that the inconsistency is caused by either errors in the participant tracking or by more complicated issues, e.g. dobbelt object where one referent is referred to in two ways. In short, I need to correct these cases manually in view of their larger context."
   ]
  },
  {
   "cell_type": "markdown",
   "metadata": {},
   "source": [
    "#### 3.1.4. Updating error_list\n",
    "\n",
    "We have now looked at compound references consisting of two rows (one compound and one constituent). How many cases have excluded so far?"
   ]
  },
  {
   "cell_type": "code",
   "execution_count": null,
   "metadata": {},
   "outputs": [],
   "source": [
    "print(len(exclude_cases))"
   ]
  },
  {
   "cell_type": "markdown",
   "metadata": {},
   "source": [
    "Some of theses compounds are themselves constituents of longer compounds. Therefore, by excluding those cases, longer compounds may be affected as well and could be excluded."
   ]
  },
  {
   "cell_type": "code",
   "execution_count": null,
   "metadata": {},
   "outputs": [],
   "source": [
    "def updateErrorList(compound_list, exclude_cases = []):\n",
    "    error_list = []\n",
    "    for row in compound_list:\n",
    "        compound = data['compound'][row].split() #A list of rows of the compound and its constituents\n",
    "        compound_actor = str(data.iloc[row].actor)\n",
    "\n",
    "        error = False\n",
    "\n",
    "        if row not in exclude_cases:\n",
    "\n",
    "            for c in compound[1:]: #We skip the first element of the compound_list because that is the compound itself\n",
    "                constituent_actor = str(data.iloc[int(c)].actor)\n",
    "\n",
    "                if constituent_actor not in compound_actor and int(c) not in exclude_cases: #Ignoring compounds whose\n",
    "                     error = True                                                           #constituents are stored in\n",
    "                                                                                            #the exclude cases          \n",
    "        if error == True:\n",
    "            error_list.append(row)\n",
    "    \n",
    "    return error_list\n",
    "\n",
    "updated_error_list = updateErrorList(error_list, exclude_cases)\n",
    "\n",
    "print(f'Original count of mismatches: {len(error_list)}')\n",
    "print(f'Cases to be excluded: {len(exclude_cases)}')\n",
    "print(f'Number of mismatches after cross-checking: {len(updated_error_list)}')"
   ]
  },
  {
   "cell_type": "markdown",
   "metadata": {},
   "source": [
    "Finally, we have identified 296 mismatches for manual correction:"
   ]
  },
  {
   "cell_type": "code",
   "execution_count": null,
   "metadata": {},
   "outputs": [],
   "source": [
    "#updated_error_list"
   ]
  },
  {
   "cell_type": "markdown",
   "metadata": {},
   "source": [
    "#### 3.1.5. Statistics of mismatches"
   ]
  },
  {
   "cell_type": "markdown",
   "metadata": {},
   "source": [
    "Which chapters have the largest proportions of mismatches?"
   ]
  },
  {
   "cell_type": "code",
   "execution_count": null,
   "metadata": {},
   "outputs": [],
   "source": [
    "error_dict = collections.defaultdict(int)\n",
    "for case in updated_error_list:\n",
    "    chapter = data['chapter'][case]\n",
    "    error_dict[chapter] += 1\n",
    "    \n",
    "#error_dict"
   ]
  },
  {
   "cell_type": "code",
   "execution_count": null,
   "metadata": {},
   "outputs": [],
   "source": [
    "new_dict = {}\n",
    "\n",
    "for chapter in error_dict:\n",
    "    where = T.nodeFromSection(('Leviticus', int(chapter),))\n",
    "    length = len(data[data.chapter == chapter])\n",
    "    new_dict[chapter] = [error_dict[chapter], length]\n",
    "    \n",
    "#new_dict"
   ]
  },
  {
   "cell_type": "code",
   "execution_count": null,
   "metadata": {},
   "outputs": [],
   "source": [
    "table = pd.DataFrame(new_dict).T\n",
    "table.columns = ['mismatches','total_words']\n",
    "#table"
   ]
  },
  {
   "cell_type": "code",
   "execution_count": null,
   "metadata": {},
   "outputs": [],
   "source": [
    "prop_table = table.mismatches/table.total_words*100"
   ]
  },
  {
   "cell_type": "code",
   "execution_count": null,
   "metadata": {},
   "outputs": [],
   "source": [
    "plot = prop_table.plot(kind='bar', color='darkblue')\n",
    "plt.xticks(fontsize=16)\n",
    "plt.yticks(fontsize=16)\n",
    "plt.ylabel('%', fontsize=16)\n",
    "plt.show()"
   ]
  },
  {
   "cell_type": "markdown",
   "metadata": {},
   "source": [
    "Chapters 18 and 25 show the highest proportion of mismatches. This fact justifies a close-reading of these chapters for further observing the dataset and its representation of the participant references."
   ]
  },
  {
   "cell_type": "markdown",
   "metadata": {},
   "source": [
    "### 3.2. Consistency between predicate and subject references\n",
    "\n",
    "Before close-reading selected chapters of the dataset, we will make one additional objective check for internal consistency.  Here, we will check whether the explicit subject and the predicate phrase in a clause always refer to the same actor.\n",
    "\n",
    "First, a subset is created from the column 'func'. Only references occuring as subjects are included. Second, a new subset is created in which only the predicates are included for the subjects in the first subset:"
   ]
  },
  {
   "cell_type": "code",
   "execution_count": null,
   "metadata": {},
   "outputs": [],
   "source": [
    "subjects = data[data.func == 'Subj'] #Creates a subset consisting of all subject phrases in the data set.\n",
    "\n",
    "#Using the subject subset to create a new subset consisting of all predicate phrases.\n",
    "verbs = data[(data.clause_atom.isin(subjects.clause_atom)) & (data.func=='VbPred')]"
   ]
  },
  {
   "cell_type": "markdown",
   "metadata": {},
   "source": [
    "The two subsets are compared. If the predicate and the explicit subject do not contain the same actor, the clause atom is added to an error_list:"
   ]
  },
  {
   "cell_type": "code",
   "execution_count": null,
   "metadata": {},
   "outputs": [],
   "source": [
    "error_list = []\n",
    "\n",
    "for cl in verbs.clause_atom:\n",
    "    predicate = data[(data.clause_atom == cl) & (data.func == 'VbPred')].actor.item()\n",
    "    subject = data[(data.clause_atom == cl) & (data.func == 'Subj')].actor.item()\n",
    "    \n",
    "    if predicate != subject:\n",
    "        print(cl, predicate, subject)\n",
    "        error_list.append(cl)"
   ]
  },
  {
   "cell_type": "markdown",
   "metadata": {},
   "source": [
    "There are 6 instances of clauses with an explicit subject and for which the subject and the predicate do not correspond.\n",
    "\n",
    "In the first case, Lev 19:34, the explicit subject \"the foreigner\" has been annotated with the actor \"you (sg)\", perhaps because of the reference to this participant in the preceding verse. This interpretation, however, is not right and should be corrected."
   ]
  },
  {
   "cell_type": "code",
   "execution_count": null,
   "metadata": {},
   "outputs": [],
   "source": [
    "B.shbLink(error_list[0])\n",
    "B.pretty(error_list[0])\n",
    "\n",
    "# data[(data.chapter == 19) & (data.verse.between(33,34))]"
   ]
  },
  {
   "cell_type": "markdown",
   "metadata": {},
   "source": [
    "In Lev 20:12 the subject \"the two of them\" is used to refer to both the man and his daughter in law. In the data set the actor of the subject has been annotated as \"the two of the man\". This is an exceptional case which is not easy to compute. However, in the similar cases in the preceding and subsequent verse the subject and the verb have both been given the same reference to \"the two of the man\".\n",
    "\n",
    "The data set could be manually corrected with a reference to both actors. "
   ]
  },
  {
   "cell_type": "code",
   "execution_count": null,
   "metadata": {},
   "outputs": [],
   "source": [
    "B.shbLink(error_list[1])\n",
    "B.pretty(error_list[1])\n",
    "\n",
    "# data[(data.chapter == 20) & (data.verse.between(11,13))]"
   ]
  },
  {
   "cell_type": "markdown",
   "metadata": {},
   "source": [
    "In the third case, Lev 24:4, the subject of the predicate is \"he\" deduced from the implicit subject in Lev 21:1. The subject is in the clause is \"baal\" (husband?). In fact, the data set does not correspond to the database here, because \"baal\" is labeled as Predicative Adjunct. The actor \"baal\" occurs only once in Lev 21 so it is strange that the actor has not been marked as empty due to its uniqueness as is normal procedure. This could be corrected."
   ]
  },
  {
   "cell_type": "code",
   "execution_count": null,
   "metadata": {},
   "outputs": [],
   "source": [
    "B.shbLink(error_list[2])\n",
    "B.pretty(error_list[2])\n",
    "\n",
    "data[(data.chapter == 21) & (data.verse == 4)]"
   ]
  },
  {
   "cell_type": "markdown",
   "metadata": {},
   "source": [
    "In the fourth case, Lev 25:30, the subject of the predicate is \"house\". In the data set, however, the actor of the predicate is not \"house\" but \"man\" or \"anyone\", referring to the subject in the preceding verse."
   ]
  },
  {
   "cell_type": "code",
   "execution_count": null,
   "metadata": {},
   "outputs": [],
   "source": [
    "B.shbLink(error_list[3])\n",
    "B.pretty(error_list[3])\n",
    "\n",
    "# data[(data.chapter == 25) & (data.verse.between(29,30))]"
   ]
  },
  {
   "cell_type": "markdown",
   "metadata": {},
   "source": [
    "As for the fifth case, Lev 26:8, there is an inconsistency between the predicate and subject in this clause. As the table below shows, the verb of the clause atom in question apparently refers back to the subject of the preceding clause in which \"five of you\" is the subject. In the second clause, the subject is now \"hundred of you\", taking another subset of \"you\" as the the subject."
   ]
  },
  {
   "cell_type": "code",
   "execution_count": null,
   "metadata": {},
   "outputs": [],
   "source": [
    "data[(data.chapter == 26) & (data.verse == 8)]"
   ]
  },
  {
   "cell_type": "markdown",
   "metadata": {},
   "source": [
    "In the sixth and final case, Lev 26:13, the subject is marked as empty, because this subject only occurs once in the discourse. What is being labeled as subject in this clause should probably be interpreted as a predicate complement (cf. the query below, especially 1 Kings 2:27) because the entity describes the subject \"you\" as servants."
   ]
  },
  {
   "cell_type": "code",
   "execution_count": null,
   "metadata": {},
   "outputs": [],
   "source": [
    "query = '''\n",
    "clause typ=InfC\n",
    "  phrase function=Pred\n",
    "    =: word lex=MN\n",
    "    word lex=HJH[\n",
    "  phrase function=PreC\n",
    "'''\n",
    "results = B.search(query)\n",
    "B.show(results)"
   ]
  },
  {
   "cell_type": "markdown",
   "metadata": {},
   "source": [
    "To conclude this second check for internal consistency, then, six cases of inconsistencies were identified as to the linking of the predicate and the subject which we would normally expect to refer to the same actor. The apparent reasons can be briefly summarized:\n",
    "\n",
    "* Lev 19:34; Lev 25:30; 26:8: The actor of the subject refers to the subject of the preceding verse\n",
    "* Lev 20:12: The subject refers only to one participant instead of a conjunction of two participants.\n",
    "* Lev 21:4: The subject is probably not the actual subject of the clause but rather a predicative adjunct.\n",
    "* Lev 26:13: The subject has no actor because it occurs only once."
   ]
  },
  {
   "cell_type": "markdown",
   "metadata": {},
   "source": [
    "### 4. Close-reading of selected chapters\n",
    "\n",
    "Previously, it was determined that chapters 18 and 25 contain the highest proportions of mismatches in terms of compound references and constituents. This fact justifies a close-reading of these two chapters.\n",
    "\n",
    "First a function is defined to apply unique colors to the actors in order to distinguish them:"
   ]
  },
  {
   "cell_type": "code",
   "execution_count": null,
   "metadata": {},
   "outputs": [],
   "source": [
    "def colorMap(dataframe, compound=True):\n",
    "    '''\n",
    "    The function creates a colormap of all actor references in a dataframe. Each actor reference is assigned a color\n",
    "    and mapped with the word nodes in columns first_word and last_word.\n",
    "    Input: dataframe\n",
    "    Output: dictionary with word node and color.\n",
    "    '''\n",
    "\n",
    "    '''\n",
    "    This loop runs through each line of the dataframe and creates a list of words\n",
    "    in the range between first_word and last_word. Afterwards, each word is stored in a dictionary\n",
    "    with their respective actor reference.\n",
    "    '''\n",
    "    actor_dict = {}\n",
    "    for row in dataframe.iterrows():\n",
    "        word_slots = dataframe['slots'][row[0]].split()\n",
    "        actor = dataframe['actor'][row[0]]\n",
    "\n",
    "        for w in word_slots:\n",
    "            \n",
    "            #If compound is set to True, word nodes won't be overwritten and compound phrases have only one actor reference\n",
    "            if compound == True:\n",
    "                if w not in actor_dict and actor != '...': #Stipulating that word nodes cannot be overwritten.\n",
    "                    actor_dict[w] = actor\n",
    "            else:\n",
    "                if actor != '...':\n",
    "                    actor_dict[w] = actor\n",
    "                    \n",
    "    '''\n",
    "    The loop creates a range of colors corresponding to the number of different actors in the dictionary created\n",
    "    in the preceding loop. Finally, each actor is stored in a dictionary with its unique color.\n",
    "    '''\n",
    "    \n",
    "    red = Color('red')\n",
    "    blue = Color('blue')\n",
    "    color_range = list(red.range_to(blue, len(set(actor_dict.values()))))\n",
    "    \n",
    "    color_dict = {}\n",
    "    n=0\n",
    "    for actor in set(actor_dict.values()):\n",
    "        color_dict[actor] = color_range[n]\n",
    "        n+=1\n",
    "    '''\n",
    "    The final loop goes through each word node of the actor_dict created above. Each word node is then stored in a new\n",
    "    dictionary with the color corresponding to its respective actor.\n",
    "    '''\n",
    "    actor_color_dict = {}\n",
    "    for w in actor_dict:\n",
    "        actor = actor_dict[w]\n",
    "        color = color_dict[actor]\n",
    "        actor_color_dict[int(w)] = color\n",
    "    \n",
    "    return actor_color_dict"
   ]
  },
  {
   "cell_type": "code",
   "execution_count": null,
   "metadata": {},
   "outputs": [],
   "source": [
    "def displayText(dataframe, compound=True):\n",
    "    '''\n",
    "    Input: dataframe\n",
    "    Output: Pretty display of verses with corresponding colorcodes from colorMap()\n",
    "    '''\n",
    "    \n",
    "    clause_atom_list = set(dataframe.clause_atom)\n",
    "    verse_list = set([L.u(cl, 'verse')[0] for cl in clause_atom_list])\n",
    "    \n",
    "    for v in range(min(verse_list), max(verse_list)+1):\n",
    "        B.pretty(v, highlights = colorMap(dataframe, compound))"
   ]
  },
  {
   "cell_type": "code",
   "execution_count": null,
   "metadata": {
    "scrolled": false
   },
   "outputs": [],
   "source": [
    "displayText(data[data.chapter == 18])"
   ]
  }
 ],
 "metadata": {
  "kernelspec": {
   "display_name": "Python 3",
   "language": "python",
   "name": "python3"
  },
  "language_info": {
   "codemirror_mode": {
    "name": "ipython",
    "version": 3
   },
   "file_extension": ".py",
   "mimetype": "text/x-python",
   "name": "python",
   "nbconvert_exporter": "python",
   "pygments_lexer": "ipython3",
   "version": "3.6.5"
  },
  "widgets": {
   "application/vnd.jupyter.widget-state+json": {
    "state": {},
    "version_major": 2,
    "version_minor": 0
   }
  }
 },
 "nbformat": 4,
 "nbformat_minor": 2
}
